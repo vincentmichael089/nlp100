{
  "nbformat": 4,
  "nbformat_minor": 0,
  "metadata": {
    "colab": {
      "name": "Chapter 4: POS tagging.ipynb",
      "provenance": [],
      "collapsed_sections": []
    },
    "kernelspec": {
      "name": "python3",
      "display_name": "Python 3"
    },
    "language_info": {
      "name": "python"
    }
  },
  "cells": [
    {
      "cell_type": "markdown",
      "source": [
        "# Chapter 4: POS tagging\n",
        "https://nlp100.github.io/en/ch04.html\n",
        "The zip archive alice.zip contains the novel, Alice’s Adventures in Wonderland (written by Lewis Carroll) distributed on Project Gutenberg, as a text file alice.txt. Apply a part-of-speech (POS) tagger to the text file, and store the result in another file. Implement programs that read the POS tagging result and perform the jobs.\n",
        "\n",
        "For your convenience, the zip archive also includes alice.txt.conll, the novel with part-of-speech labels predicted by Stanford CoreNLP. It may be a good idea to use matplotlib or Gnuplot for the problems 37, 38, and 39."
      ],
      "metadata": {
        "id": "HFuM1VYhYX1x"
      }
    },
    {
      "cell_type": "markdown",
      "source": [
        "<hr>\n",
        "\n",
        "## 30. Reading the result\n",
        "\n",
        "Implement a program that reads the result of part-of-speech tagging. Here, represent a sentence as a list of mapping objects, each of which associates a surface form, lemma (base form), part-of-speech tag with the keys text, lemma, pos. Use this representation in the rest of the problems."
      ],
      "metadata": {
        "id": "1Sb1gRoCYeiZ"
      }
    },
    {
      "cell_type": "code",
      "execution_count": 1,
      "metadata": {
        "colab": {
          "base_uri": "https://localhost:8080/",
          "height": 441
        },
        "id": "P55J1SkzXo_1",
        "outputId": "40c5d1f1-c291-4161-b6df-2226e86217a4"
      },
      "outputs": [
        {
          "output_type": "stream",
          "name": "stdout",
          "text": [
            "Mounted at /content/drive\n"
          ]
        },
        {
          "output_type": "execute_result",
          "data": {
            "text/plain": [
              "        ID        FORM       LEMMA  POS FEAT HEAD DEPREL\n",
              "0        1       ALICE       ALICE  NNP    _    _      _\n",
              "1        2          'S          's  POS    _    _      _\n",
              "2        3  ADVENTURES  ADVENTURES  NNP    _    _      _\n",
              "3        4          IN          in   IN    _    _      _\n",
              "4        5  WONDERLAND  WONDERLAND  NNP    _    _      _\n",
              "...    ...         ...         ...  ...  ...  ...    ...\n",
              "34449  111      summer      summer   NN    _    _      _\n",
              "34450  112        days         day  NNS    _    _      _\n",
              "34451  113           .           .    .    _    _      _\n",
              "34452    1         THE         the   DT    _    _      _\n",
              "34453    2         END         end   NN    _    _      _\n",
              "\n",
              "[34454 rows x 7 columns]"
            ],
            "text/html": [
              "\n",
              "  <div id=\"df-a1cca9fb-eaef-48e8-8cb3-8350f376724d\">\n",
              "    <div class=\"colab-df-container\">\n",
              "      <div>\n",
              "<style scoped>\n",
              "    .dataframe tbody tr th:only-of-type {\n",
              "        vertical-align: middle;\n",
              "    }\n",
              "\n",
              "    .dataframe tbody tr th {\n",
              "        vertical-align: top;\n",
              "    }\n",
              "\n",
              "    .dataframe thead th {\n",
              "        text-align: right;\n",
              "    }\n",
              "</style>\n",
              "<table border=\"1\" class=\"dataframe\">\n",
              "  <thead>\n",
              "    <tr style=\"text-align: right;\">\n",
              "      <th></th>\n",
              "      <th>ID</th>\n",
              "      <th>FORM</th>\n",
              "      <th>LEMMA</th>\n",
              "      <th>POS</th>\n",
              "      <th>FEAT</th>\n",
              "      <th>HEAD</th>\n",
              "      <th>DEPREL</th>\n",
              "    </tr>\n",
              "  </thead>\n",
              "  <tbody>\n",
              "    <tr>\n",
              "      <th>0</th>\n",
              "      <td>1</td>\n",
              "      <td>ALICE</td>\n",
              "      <td>ALICE</td>\n",
              "      <td>NNP</td>\n",
              "      <td>_</td>\n",
              "      <td>_</td>\n",
              "      <td>_</td>\n",
              "    </tr>\n",
              "    <tr>\n",
              "      <th>1</th>\n",
              "      <td>2</td>\n",
              "      <td>'S</td>\n",
              "      <td>'s</td>\n",
              "      <td>POS</td>\n",
              "      <td>_</td>\n",
              "      <td>_</td>\n",
              "      <td>_</td>\n",
              "    </tr>\n",
              "    <tr>\n",
              "      <th>2</th>\n",
              "      <td>3</td>\n",
              "      <td>ADVENTURES</td>\n",
              "      <td>ADVENTURES</td>\n",
              "      <td>NNP</td>\n",
              "      <td>_</td>\n",
              "      <td>_</td>\n",
              "      <td>_</td>\n",
              "    </tr>\n",
              "    <tr>\n",
              "      <th>3</th>\n",
              "      <td>4</td>\n",
              "      <td>IN</td>\n",
              "      <td>in</td>\n",
              "      <td>IN</td>\n",
              "      <td>_</td>\n",
              "      <td>_</td>\n",
              "      <td>_</td>\n",
              "    </tr>\n",
              "    <tr>\n",
              "      <th>4</th>\n",
              "      <td>5</td>\n",
              "      <td>WONDERLAND</td>\n",
              "      <td>WONDERLAND</td>\n",
              "      <td>NNP</td>\n",
              "      <td>_</td>\n",
              "      <td>_</td>\n",
              "      <td>_</td>\n",
              "    </tr>\n",
              "    <tr>\n",
              "      <th>...</th>\n",
              "      <td>...</td>\n",
              "      <td>...</td>\n",
              "      <td>...</td>\n",
              "      <td>...</td>\n",
              "      <td>...</td>\n",
              "      <td>...</td>\n",
              "      <td>...</td>\n",
              "    </tr>\n",
              "    <tr>\n",
              "      <th>34449</th>\n",
              "      <td>111</td>\n",
              "      <td>summer</td>\n",
              "      <td>summer</td>\n",
              "      <td>NN</td>\n",
              "      <td>_</td>\n",
              "      <td>_</td>\n",
              "      <td>_</td>\n",
              "    </tr>\n",
              "    <tr>\n",
              "      <th>34450</th>\n",
              "      <td>112</td>\n",
              "      <td>days</td>\n",
              "      <td>day</td>\n",
              "      <td>NNS</td>\n",
              "      <td>_</td>\n",
              "      <td>_</td>\n",
              "      <td>_</td>\n",
              "    </tr>\n",
              "    <tr>\n",
              "      <th>34451</th>\n",
              "      <td>113</td>\n",
              "      <td>.</td>\n",
              "      <td>.</td>\n",
              "      <td>.</td>\n",
              "      <td>_</td>\n",
              "      <td>_</td>\n",
              "      <td>_</td>\n",
              "    </tr>\n",
              "    <tr>\n",
              "      <th>34452</th>\n",
              "      <td>1</td>\n",
              "      <td>THE</td>\n",
              "      <td>the</td>\n",
              "      <td>DT</td>\n",
              "      <td>_</td>\n",
              "      <td>_</td>\n",
              "      <td>_</td>\n",
              "    </tr>\n",
              "    <tr>\n",
              "      <th>34453</th>\n",
              "      <td>2</td>\n",
              "      <td>END</td>\n",
              "      <td>end</td>\n",
              "      <td>NN</td>\n",
              "      <td>_</td>\n",
              "      <td>_</td>\n",
              "      <td>_</td>\n",
              "    </tr>\n",
              "  </tbody>\n",
              "</table>\n",
              "<p>34454 rows × 7 columns</p>\n",
              "</div>\n",
              "      <button class=\"colab-df-convert\" onclick=\"convertToInteractive('df-a1cca9fb-eaef-48e8-8cb3-8350f376724d')\"\n",
              "              title=\"Convert this dataframe to an interactive table.\"\n",
              "              style=\"display:none;\">\n",
              "        \n",
              "  <svg xmlns=\"http://www.w3.org/2000/svg\" height=\"24px\"viewBox=\"0 0 24 24\"\n",
              "       width=\"24px\">\n",
              "    <path d=\"M0 0h24v24H0V0z\" fill=\"none\"/>\n",
              "    <path d=\"M18.56 5.44l.94 2.06.94-2.06 2.06-.94-2.06-.94-.94-2.06-.94 2.06-2.06.94zm-11 1L8.5 8.5l.94-2.06 2.06-.94-2.06-.94L8.5 2.5l-.94 2.06-2.06.94zm10 10l.94 2.06.94-2.06 2.06-.94-2.06-.94-.94-2.06-.94 2.06-2.06.94z\"/><path d=\"M17.41 7.96l-1.37-1.37c-.4-.4-.92-.59-1.43-.59-.52 0-1.04.2-1.43.59L10.3 9.45l-7.72 7.72c-.78.78-.78 2.05 0 2.83L4 21.41c.39.39.9.59 1.41.59.51 0 1.02-.2 1.41-.59l7.78-7.78 2.81-2.81c.8-.78.8-2.07 0-2.86zM5.41 20L4 18.59l7.72-7.72 1.47 1.35L5.41 20z\"/>\n",
              "  </svg>\n",
              "      </button>\n",
              "      \n",
              "  <style>\n",
              "    .colab-df-container {\n",
              "      display:flex;\n",
              "      flex-wrap:wrap;\n",
              "      gap: 12px;\n",
              "    }\n",
              "\n",
              "    .colab-df-convert {\n",
              "      background-color: #E8F0FE;\n",
              "      border: none;\n",
              "      border-radius: 50%;\n",
              "      cursor: pointer;\n",
              "      display: none;\n",
              "      fill: #1967D2;\n",
              "      height: 32px;\n",
              "      padding: 0 0 0 0;\n",
              "      width: 32px;\n",
              "    }\n",
              "\n",
              "    .colab-df-convert:hover {\n",
              "      background-color: #E2EBFA;\n",
              "      box-shadow: 0px 1px 2px rgba(60, 64, 67, 0.3), 0px 1px 3px 1px rgba(60, 64, 67, 0.15);\n",
              "      fill: #174EA6;\n",
              "    }\n",
              "\n",
              "    [theme=dark] .colab-df-convert {\n",
              "      background-color: #3B4455;\n",
              "      fill: #D2E3FC;\n",
              "    }\n",
              "\n",
              "    [theme=dark] .colab-df-convert:hover {\n",
              "      background-color: #434B5C;\n",
              "      box-shadow: 0px 1px 3px 1px rgba(0, 0, 0, 0.15);\n",
              "      filter: drop-shadow(0px 1px 2px rgba(0, 0, 0, 0.3));\n",
              "      fill: #FFFFFF;\n",
              "    }\n",
              "  </style>\n",
              "\n",
              "      <script>\n",
              "        const buttonEl =\n",
              "          document.querySelector('#df-a1cca9fb-eaef-48e8-8cb3-8350f376724d button.colab-df-convert');\n",
              "        buttonEl.style.display =\n",
              "          google.colab.kernel.accessAllowed ? 'block' : 'none';\n",
              "\n",
              "        async function convertToInteractive(key) {\n",
              "          const element = document.querySelector('#df-a1cca9fb-eaef-48e8-8cb3-8350f376724d');\n",
              "          const dataTable =\n",
              "            await google.colab.kernel.invokeFunction('convertToInteractive',\n",
              "                                                     [key], {});\n",
              "          if (!dataTable) return;\n",
              "\n",
              "          const docLinkHtml = 'Like what you see? Visit the ' +\n",
              "            '<a target=\"_blank\" href=https://colab.research.google.com/notebooks/data_table.ipynb>data table notebook</a>'\n",
              "            + ' to learn more about interactive tables.';\n",
              "          element.innerHTML = '';\n",
              "          dataTable['output_type'] = 'display_data';\n",
              "          await google.colab.output.renderOutput(dataTable, element);\n",
              "          const docLink = document.createElement('div');\n",
              "          docLink.innerHTML = docLinkHtml;\n",
              "          element.appendChild(docLink);\n",
              "        }\n",
              "      </script>\n",
              "    </div>\n",
              "  </div>\n",
              "  "
            ]
          },
          "metadata": {},
          "execution_count": 1
        }
      ],
      "source": [
        "import re\n",
        "import pandas as pd\n",
        "\n",
        "from google.colab import drive\n",
        "drive.mount('/content/drive', force_remount=True)\n",
        "\n",
        "basePath = \"/content/drive/MyDrive/nlp100/Dataset/alice/\"\n",
        "rawtext = \"alice.txt\"\n",
        "conll = \"alice.txt.conll\"\n",
        "\n",
        "aliceDf = pd.read_csv(basePath+conll, sep=\"\\t\", names = ['ID', 'FORM', 'LEMMA', 'POS', 'FEAT', 'HEAD', 'DEPREL'])\n",
        "aliceDf"
      ]
    },
    {
      "cell_type": "markdown",
      "source": [
        "<hr>\n",
        "\n",
        "## 31. Verbs\n",
        "Extract surface forms of all verbs appearing in the text."
      ],
      "metadata": {
        "id": "6xStRbkTpv-A"
      }
    },
    {
      "cell_type": "code",
      "source": [
        "aliceDf.FORM.values"
      ],
      "metadata": {
        "colab": {
          "base_uri": "https://localhost:8080/"
        },
        "id": "0Ch1Yw4_p9ul",
        "outputId": "b41ba2e6-9f3f-4bc2-a00f-6bc64633da2c"
      },
      "execution_count": 2,
      "outputs": [
        {
          "output_type": "execute_result",
          "data": {
            "text/plain": [
              "array(['ALICE', \"'S\", 'ADVENTURES', ..., '.', 'THE', 'END'], dtype=object)"
            ]
          },
          "metadata": {},
          "execution_count": 2
        }
      ]
    },
    {
      "cell_type": "markdown",
      "source": [
        "<hr>\n",
        "\n",
        "## 32. Base forms of verbs\n",
        "Extract lemmas of all verbs appearing in the text."
      ],
      "metadata": {
        "id": "2BqssDnYqHhl"
      }
    },
    {
      "cell_type": "code",
      "source": [
        "aliceDf.LEMMA.values"
      ],
      "metadata": {
        "colab": {
          "base_uri": "https://localhost:8080/"
        },
        "id": "gfO5zyuxqFcr",
        "outputId": "e64ba025-56ff-45ee-8622-a20a6cc888e4"
      },
      "execution_count": 3,
      "outputs": [
        {
          "output_type": "execute_result",
          "data": {
            "text/plain": [
              "array(['ALICE', \"'s\", 'ADVENTURES', ..., '.', 'the', 'end'], dtype=object)"
            ]
          },
          "metadata": {},
          "execution_count": 3
        }
      ]
    },
    {
      "cell_type": "markdown",
      "source": [
        "<hr>\n",
        "\n",
        "## 33. A of B\n",
        "Extract noun phrases in the form of “A of B”, where A and B are nouns."
      ],
      "metadata": {
        "id": "YWdi4P_8qdKV"
      }
    },
    {
      "cell_type": "code",
      "source": [
        "def isNoun(text):\n",
        "  if text in [\"NN\", \"NNS\", \"NNP\", \"NNPS\"]:\n",
        "    return True\n",
        "  else:\n",
        "    return False"
      ],
      "metadata": {
        "id": "QSHcaZ-GqcTE"
      },
      "execution_count": 4,
      "outputs": []
    },
    {
      "cell_type": "code",
      "source": [
        "aliceDf['NOUNFlag'] = aliceDf['POS'].apply(isNoun)\n",
        "\n",
        "prevTrue = False\n",
        "prevLemma = \"\"\n",
        "prevId = 0\n",
        "\n",
        "listAofB = []\n",
        "\n",
        "for index, row in aliceDf.iterrows():\n",
        "  if prevTrue == True and row['NOUNFlag'] == True and row['ID'] > prevId:\n",
        "    noun = prevLemma + \" OF \"+ row['LEMMA']\n",
        "    if noun not in listAofB:\n",
        "      listAofB.append(noun)\n",
        "\n",
        "  if row['NOUNFlag'] == True:\n",
        "    prevTrue = True\n",
        "    prevLemma = row['LEMMA']\n",
        "  else:\n",
        "    prevTrue = False\n",
        "\n",
        "  prevId = row['ID']\n",
        "\n",
        "listAofB"
      ],
      "metadata": {
        "colab": {
          "base_uri": "https://localhost:8080/"
        },
        "id": "sySr-B0wU8Kj",
        "outputId": "ce555c55-4e52-4530-e273-c786cf47cc4b"
      },
      "execution_count": 5,
      "outputs": [
        {
          "output_type": "execute_result",
          "data": {
            "text/plain": [
              "['Lewis OF Carroll',\n",
              " 'MILLENNIUM OF FULCRUM',\n",
              " 'FULCRUM OF EDITION',\n",
              " 'chapter OF i.',\n",
              " 'White OF rabbit',\n",
              " 'ITS OF WAISTCOAT-POCKET',\n",
              " 'ORANGE OF MARMALADE',\n",
              " 'one OF listening',\n",
              " 'New OF Zealand',\n",
              " 'bit OF hurt',\n",
              " 'time OF round',\n",
              " 'paper OF label',\n",
              " 'roast OF turkey',\n",
              " 'glass OF box',\n",
              " 'RIGHT OF FOOT',\n",
              " 'garden OF door',\n",
              " 'Poor OF Alice',\n",
              " 'kid OF glove',\n",
              " 'yesterday OF thing',\n",
              " 'Multiplication OF Table',\n",
              " 'glass OF table',\n",
              " 'salt OF water',\n",
              " 'bathing OF machine',\n",
              " 'child OF digging',\n",
              " 'railway OF station',\n",
              " 'queer OF thing',\n",
              " 'queer OF to-day',\n",
              " 'O OF Mouse',\n",
              " 'Latin OF Grammar',\n",
              " 'o OF mouse',\n",
              " 'Ou OF est',\n",
              " 'est OF ma',\n",
              " 'ma OF chatte',\n",
              " 'cat OF Dinah',\n",
              " 'party OF swam',\n",
              " 'Edgar OF Atheling',\n",
              " 'meeting OF adjourn',\n",
              " 'winter OF day',\n",
              " 'White OF Rabbit',\n",
              " 'Mary OF Ann',\n",
              " 'Run OF home',\n",
              " 'brass OF plate',\n",
              " 'W. OF RABBIT',\n",
              " 'Miss OF Alice',\n",
              " 'DRINK OF ME',\n",
              " 'catch OF hold',\n",
              " 'roof OF bear',\n",
              " 'CHAPTER OF V.',\n",
              " 'V. OF Advice',\n",
              " 'FATHER OF WILLIAM',\n",
              " 'Father OF William',\n",
              " 'time OF Alice',\n",
              " 'lefthand OF bit',\n",
              " 'serpent OF night',\n",
              " 'chapter OF VI',\n",
              " 'Cheshire OF cat',\n",
              " 'cat OF COULD',\n",
              " 'COULD OF grin',\n",
              " 'no OF mistake',\n",
              " 'Cheshire OF Puss',\n",
              " 'paw OF round',\n",
              " 'March OF Hare',\n",
              " 'Queen OF to-day',\n",
              " 'chapter OF vii',\n",
              " 'Mad OF Tea-Party',\n",
              " 'BEST OF butter',\n",
              " 'tea OF spoon',\n",
              " 'CHAPTER OF VIII',\n",
              " 'cook OF tulip-root',\n",
              " 'RED OF rose-tree',\n",
              " 'velvet OF cushion',\n",
              " 'difficulty OF Alice',\n",
              " 'beheading OF people',\n",
              " 'Cheshire OF Cat',\n",
              " 'moment OF Alice',\n",
              " 'party OF look',\n",
              " 'Mock OF Turtle',\n",
              " 'arm OF round',\n",
              " 'feather OF flock',\n",
              " 'birthday OF present',\n",
              " 'thing OF Mock',\n",
              " 'Turtle OF Soup',\n",
              " 'Alice OF doubtfully',\n",
              " 'classic OF master',\n",
              " 'chapter OF x',\n",
              " 'Lobster OF Quadrille',\n",
              " 'change OF lobster',\n",
              " 'Change OF lobster',\n",
              " 'round OF Alice',\n",
              " 'repeat OF something',\n",
              " 'creature OF order',\n",
              " 'repeat OF lesson',\n",
              " 'ful OF soup',\n",
              " 'chapter OF xi',\n",
              " 'parchment OF scroll',\n",
              " 'summer OF day',\n",
              " 'course OF twinkling',\n",
              " 'canvas OF bag',\n",
              " 'forehead OF ache',\n",
              " 'evidence OF YET',\n",
              " 'chapter OF xii',\n",
              " 'head OF downward',\n",
              " 'nothing OF whatever',\n",
              " 'all OF person',\n",
              " 'mile OF high',\n",
              " 'WE OF KNOW',\n",
              " 'KNOW OF IT',\n",
              " 'THEY OF all',\n",
              " 'SHE OF HAD',\n",
              " 'twentieth OF time',\n",
              " 'setting OF sun',\n",
              " 'shepherd OF boy',\n",
              " 'queer OF noise',\n",
              " 'riper OF year',\n",
              " 'THEIR OF eye']"
            ]
          },
          "metadata": {},
          "execution_count": 5
        }
      ]
    },
    {
      "cell_type": "markdown",
      "source": [
        "<hr>\n",
        "\n",
        "## 34. A B\n",
        "Extract the longest noun phrase consisting of consecutive nouns."
      ],
      "metadata": {
        "id": "SbIddleBqmMp"
      }
    },
    {
      "cell_type": "code",
      "source": [
        "aliceDf['NOUNFlag'] = aliceDf['POS'].apply(isNoun)\n",
        "\n",
        "prevTrue = False\n",
        "prevLemma = \"\"\n",
        "prevId = 0\n",
        "\n",
        "listAB = []\n",
        "\n",
        "for index, row in aliceDf.iterrows():\n",
        "  if prevTrue == True and row['NOUNFlag'] == True and row['ID'] > prevId:\n",
        "    noun = [prevLemma, row['LEMMA']]\n",
        "    if noun not in listAB:\n",
        "      noun.append(row['ID'])\n",
        "      listAB.append(noun)\n",
        "\n",
        "  if row['NOUNFlag'] == True:\n",
        "    prevTrue = True\n",
        "    prevLemma = row['LEMMA']\n",
        "  else:\n",
        "    prevTrue = False\n",
        "\n",
        "  prevId = row['ID']"
      ],
      "metadata": {
        "id": "W9CUr8Y7rQtP"
      },
      "execution_count": 6,
      "outputs": []
    },
    {
      "cell_type": "code",
      "source": [
        "consecutiveNounsList = []\n",
        "consecutiveNoun = []\n",
        "\n",
        "for i, v in enumerate(listAB):\n",
        "  connectPrevious = False\n",
        "  connectNext = False\n",
        "  if i is not 0 and i is not len(listAB) - 1:\n",
        "    \n",
        "    if listAB[i-1][1] == v[0] and v[2] > listAB[i-1][2]:\n",
        "      if len(consecutiveNoun) == 0:\n",
        "        consecutiveNoun.append(listAB[i-1][0])\n",
        "        consecutiveNoun.append(listAB[i-1][1])\n",
        "      else:\n",
        "        consecutiveNoun.append(listAB[i-1][1])\n",
        "\n",
        "    if listAB[i+1][0] == v[1] and v[2] < listAB[i+1][2]:\n",
        "      connectNext = True\n",
        "      \n",
        "    if connectNext == False and len(consecutiveNoun) is not 0:\n",
        "      consecutiveNoun.append(v[1])\n",
        "      consecutiveNounsList.append(consecutiveNoun)\n",
        "      consecutiveNoun = []"
      ],
      "metadata": {
        "id": "uaqKh6QpYGlH"
      },
      "execution_count": 7,
      "outputs": []
    },
    {
      "cell_type": "code",
      "source": [
        "consecutiveNounsList "
      ],
      "metadata": {
        "colab": {
          "base_uri": "https://localhost:8080/"
        },
        "id": "R7ERaT1TZ5Iy",
        "outputId": "6f2427dd-1f59-4d61-9337-fac10b8c5e37"
      },
      "execution_count": 8,
      "outputs": [
        {
          "output_type": "execute_result",
          "data": {
            "text/plain": [
              "[['MILLENNIUM', 'FULCRUM', 'EDITION'],\n",
              " ['Ou', 'est', 'ma', 'chatte'],\n",
              " ['CHAPTER', 'V.', 'Advice'],\n",
              " ['Cheshire', 'cat', 'COULD', 'grin'],\n",
              " ['thing', 'Mock', 'Turtle', 'Soup'],\n",
              " ['WE', 'KNOW', 'IT']]"
            ]
          },
          "metadata": {},
          "execution_count": 8
        }
      ]
    },
    {
      "cell_type": "markdown",
      "source": [
        "<hr>\n",
        "\n",
        "## 35. Frequency of words\n",
        "Obtain the list of words and frequencies of their occurrences sorted by descending order of frequency."
      ],
      "metadata": {
        "id": "T1PJlSb1rWqN"
      }
    },
    {
      "cell_type": "code",
      "source": [
        "aliceDf.LEMMA.value_counts()"
      ],
      "metadata": {
        "colab": {
          "base_uri": "https://localhost:8080/"
        },
        "id": "TIxmW6DNsFNn",
        "outputId": "13007b70-018a-4e2e-8836-54872c4f3f76"
      },
      "execution_count": 9,
      "outputs": [
        {
          "output_type": "execute_result",
          "data": {
            "text/plain": [
              ",              2418\n",
              "the            1639\n",
              "'              1130\n",
              "`              1081\n",
              "be             1076\n",
              "               ... \n",
              "bee               1\n",
              "incessantly       1\n",
              "son               1\n",
              "injure            1\n",
              "happy             1\n",
              "Name: LEMMA, Length: 2170, dtype: int64"
            ]
          },
          "metadata": {},
          "execution_count": 9
        }
      ]
    },
    {
      "cell_type": "markdown",
      "source": [
        "<hr>\n",
        "\n",
        "## 36. Top-ten frequent words\n",
        "Visualize the top-ten frequent words and their frequencies with a chart (e.g., bar chart)."
      ],
      "metadata": {
        "id": "N1aYzk5grcJ2"
      }
    },
    {
      "cell_type": "code",
      "source": [
        "import seaborn as sns\n",
        "sequential_colors = sns.color_palette(\"RdPu\", 10)\n",
        "sns.set_palette(sequential_colors)\n",
        "\n",
        "x = list(aliceDf.LEMMA.value_counts()[:10].index)\n",
        "y = list(aliceDf.LEMMA.value_counts()[:10].values)\n",
        "data = {\n",
        "  'word': x,\n",
        "  'freq': y\n",
        "  }\n",
        "\n",
        "sns.barplot(x = 'word', y = 'freq', data = data).set_title(\"With Symbols\")"
      ],
      "metadata": {
        "colab": {
          "base_uri": "https://localhost:8080/",
          "height": 298
        },
        "id": "Em4DaisisTb_",
        "outputId": "2f5faaee-21d6-4114-f58d-f4a5b64860fe"
      },
      "execution_count": 10,
      "outputs": [
        {
          "output_type": "execute_result",
          "data": {
            "text/plain": [
              "Text(0.5, 1.0, 'With Symbols')"
            ]
          },
          "metadata": {},
          "execution_count": 10
        },
        {
          "output_type": "display_data",
          "data": {
            "text/plain": [
              "<Figure size 432x288 with 1 Axes>"
            ],
            "image/png": "[encoded data removed]"
          },
          "metadata": {
            "needs_background": "light"
          }
        }
      ]
    },
    {
      "cell_type": "code",
      "source": [
        "aliceDfNoSymbol = aliceDf.copy()\n",
        "aliceDfNoSymbol.LEMMA = aliceDfNoSymbol.LEMMA.apply(lambda l: re.sub(r'[^a-zA-Z0-9_]', r'', l))\n",
        "\n",
        "x = list(aliceDfNoSymbol.LEMMA.value_counts()[1:11].index)\n",
        "y = list(aliceDfNoSymbol.LEMMA.value_counts()[1:11].values)\n",
        "data = {\n",
        "  'word': x,\n",
        "  'freq': y\n",
        "  }\n",
        "\n",
        "sns.barplot(x = 'word', y = 'freq', data = data).set_title(\"Without Symbols\")"
      ],
      "metadata": {
        "colab": {
          "base_uri": "https://localhost:8080/",
          "height": 298
        },
        "id": "1MSWfQ7yvE3n",
        "outputId": "0f3e0b12-63a6-46e9-cc0f-dce97c545e79"
      },
      "execution_count": 11,
      "outputs": [
        {
          "output_type": "execute_result",
          "data": {
            "text/plain": [
              "Text(0.5, 1.0, 'Without Symbols')"
            ]
          },
          "metadata": {},
          "execution_count": 11
        },
        {
          "output_type": "display_data",
          "data": {
            "text/plain": [
              "<Figure size 432x288 with 1 Axes>"
            ],
            "image/png": "[encoded data removed]"
          },
          "metadata": {
            "needs_background": "light"
          }
        }
      ]
    },
    {
      "cell_type": "markdown",
      "source": [
        "<hr>\n",
        "\n",
        "## 37. Top-ten words co-occurring with ‘Alice’\n",
        "Extract the list of words that co-occur with the word “Alice”. Visualize with a chart (e.g., bar chart) the top-ten words co-occurring with the word “Alice” and their frequencies."
      ],
      "metadata": {
        "id": "fPuBQdKqrh6O"
      }
    },
    {
      "cell_type": "code",
      "source": [
        "import re\n",
        "from google.colab import drive\n",
        "rawtext = \"alice.txt\"\n",
        "\n",
        "f = open(basePath+rawtext, 'r', encoding = \"ISO-8859-1\")\n",
        "aliceRaw = f.read()\n",
        "aliceRaw = re.sub(r\"\\n\", r\" \", aliceRaw)\n",
        "aliceRaw = re.sub(r\"([^a-zA-Z0-9_])\", r\" \\1 \", aliceRaw )\n",
        "aliceRaw = aliceRaw.split()"
      ],
      "metadata": {
        "id": "en0wJ-is60q3"
      },
      "execution_count": 12,
      "outputs": []
    },
    {
      "cell_type": "code",
      "source": [
        "occurWithAlice= {}\n",
        "\n",
        "for i, v in enumerate(aliceRaw):\n",
        "  if v == \"Alice\":\n",
        "    left = aliceRaw[i-1]\n",
        "    right = aliceRaw[i+1]\n",
        "\n",
        "    if left in occurWithAlice: \n",
        "      occurWithAlice[left] +=1\n",
        "    else:\n",
        "      dict = {left: 1} \n",
        "      occurWithAlice.update(dict) \n",
        "\n",
        "    if right in occurWithAlice:\n",
        "      occurWithAlice[right] +=1\n",
        "    else:\n",
        "      dict = {right: 1} \n",
        "      occurWithAlice.update(dict) "
      ],
      "metadata": {
        "id": "w5bcOqNP9U7b"
      },
      "execution_count": 13,
      "outputs": []
    },
    {
      "cell_type": "code",
      "source": [
        "withoutSymbolKey = []\n",
        "withoutSymbolValue = []\n",
        "withSymbolKey = []\n",
        "withSymbolValue = []\n",
        "\n",
        "for w in sorted(occurWithAlice, key=occurWithAlice.get, reverse=True):\n",
        "  if len(withSymbolKey) < 10:\n",
        "    withSymbolKey.append(w)\n",
        "    withSymbolValue.append(occurWithAlice[w])\n",
        "\n",
        "  if(w.isalpha()):\n",
        "    if len(withoutSymbolKey) < 10:\n",
        "      withoutSymbolKey.append(w)\n",
        "      withoutSymbolValue.append(occurWithAlice[w])"
      ],
      "metadata": {
        "id": "pr_iUJhd_yDq"
      },
      "execution_count": 14,
      "outputs": []
    },
    {
      "cell_type": "code",
      "source": [
        "data = {\n",
        "  'word': withSymbolKey,\n",
        "  'freq': withSymbolValue\n",
        "  }\n",
        "\n",
        "sns.barplot(x = 'word', y = 'freq', data = data).set_title(\"With Symbols\")"
      ],
      "metadata": {
        "colab": {
          "base_uri": "https://localhost:8080/",
          "height": 298
        },
        "id": "U6jH63IXCAa2",
        "outputId": "ac5b6d0c-5d52-4ba1-c2cf-1af9cf2ace60"
      },
      "execution_count": 15,
      "outputs": [
        {
          "output_type": "execute_result",
          "data": {
            "text/plain": [
              "Text(0.5, 1.0, 'With Symbols')"
            ]
          },
          "metadata": {},
          "execution_count": 15
        },
        {
          "output_type": "display_data",
          "data": {
            "text/plain": [
              "<Figure size 432x288 with 1 Axes>"
            ],
            "image/png": "[encoded data removed]"
          },
          "metadata": {
            "needs_background": "light"
          }
        }
      ]
    },
    {
      "cell_type": "code",
      "source": [
        "data = {\n",
        "  'word': withoutSymbolKey,\n",
        "  'freq': withoutSymbolValue\n",
        "  }\n",
        "\n",
        "sns.barplot(x = 'word', y = 'freq', data = data).set_title(\"Without Symbols\")"
      ],
      "metadata": {
        "colab": {
          "base_uri": "https://localhost:8080/",
          "height": 298
        },
        "id": "_P0BbFp2CgSE",
        "outputId": "e315c8b6-9d4b-4614-de1d-b94dc60564d2"
      },
      "execution_count": 16,
      "outputs": [
        {
          "output_type": "execute_result",
          "data": {
            "text/plain": [
              "Text(0.5, 1.0, 'Without Symbols')"
            ]
          },
          "metadata": {},
          "execution_count": 16
        },
        {
          "output_type": "display_data",
          "data": {
            "text/plain": [
              "<Figure size 432x288 with 1 Axes>"
            ],
            "image/png": "[encoded data removed]"
          },
          "metadata": {
            "needs_background": "light"
          }
        }
      ]
    },
    {
      "cell_type": "markdown",
      "source": [
        "<hr>\n",
        "\n",
        "## 38. Histogram\n",
        "Draw a histogram of word frequency (x-axis is a scalar range representing a frequency ranging from 1 to the largest frequency of a given word in the entire corpus, and the y-axis is the count of unique words that fall into the count of the x value)."
      ],
      "metadata": {
        "id": "L-D6tEeSriX8"
      }
    },
    {
      "cell_type": "code",
      "source": [
        "lemmaFreq = aliceDf['LEMMA'].value_counts().to_dict()\n",
        "\n",
        "histDict = {}\n",
        "\n",
        "for w in sorted(lemmaFreq, key = lemmaFreq.get):\n",
        "  key = lemmaFreq[w]\n",
        "\n",
        "  if key in histDict:\n",
        "    histDict[key] += 1\n",
        "  else:\n",
        "    dict = {key: 1} \n",
        "    histDict.update(dict) "
      ],
      "metadata": {
        "id": "H9avnxwmOSB-"
      },
      "execution_count": 17,
      "outputs": []
    },
    {
      "cell_type": "code",
      "source": [
        "import numpy as np\n",
        "\n",
        "x = list(histDict.keys())\n",
        "y = list(histDict.values())\n",
        "data = {\n",
        "  'word': x,\n",
        "  'freq': y\n",
        "  }\n",
        "\n",
        "sns.barplot(x = 'word', y = 'freq', data = data).set(xticklabels=[])"
      ],
      "metadata": {
        "colab": {
          "base_uri": "https://localhost:8080/",
          "height": 271
        },
        "id": "pNivBJAZQrLv",
        "outputId": "f85d47f8-8b92-40f5-86bd-7964385b239e"
      },
      "execution_count": 51,
      "outputs": [
        {
          "output_type": "execute_result",
          "data": {
            "text/plain": [
              "[[]]"
            ]
          },
          "metadata": {},
          "execution_count": 51
        },
        {
          "output_type": "display_data",
          "data": {
            "text/plain": [
              "<Figure size 432x288 with 1 Axes>"
            ],
            "image/png": "[encoded data removed]"
          },
          "metadata": {
            "needs_background": "light"
          }
        }
      ]
    },
    {
      "cell_type": "markdown",
      "source": [
        "<hr>\n",
        "\n",
        "## 39. Zipf’s law\n",
        "Plot a log-log graph with the x-axis being rank order and the y-axis being frequency."
      ],
      "metadata": {
        "id": "8wRbeS2yrilm"
      }
    },
    {
      "cell_type": "code",
      "source": [
        "import matplotlib.pyplot as plt\n",
        "\n",
        "x = list(aliceDf.LEMMA.value_counts().index)\n",
        "y = list(aliceDf.LEMMA.value_counts().values)\n",
        "\n",
        "data = {\n",
        "  'word': x,\n",
        "  'freq': y\n",
        "  }\n",
        "\n",
        "data = pd.DataFrame.from_dict(data)\n",
        "sns.lineplot(x = 'word', y = 'freq', data = data).set_title(\"With Symbols\")\n",
        "plt.xscale('log')\n",
        "plt.yscale('log')"
      ],
      "metadata": {
        "colab": {
          "base_uri": "https://localhost:8080/",
          "height": 299
        },
        "id": "oCBe57m1if7e",
        "outputId": "3fb11c54-a6e8-4b49-8db0-bb7fb3662109"
      },
      "execution_count": 20,
      "outputs": [
        {
          "output_type": "display_data",
          "data": {
            "text/plain": [
              "<Figure size 432x288 with 1 Axes>"
            ],
            "image/png": "[encoded data removed]"
          },
          "metadata": {
            "needs_background": "light"
          }
        }
      ]
    },
    {
      "cell_type": "code",
      "source": [
        "x = list(aliceDfNoSymbol.LEMMA.value_counts().index)\n",
        "y = list(aliceDfNoSymbol.LEMMA.value_counts().values)\n",
        "data = {\n",
        "  'word': x,\n",
        "  'freq': y\n",
        "  }\n",
        "\n",
        "data = pd.DataFrame.from_dict(data)\n",
        "sns.lineplot(x = 'word', y = 'freq', data = data).set_title(\"Without Symbols\")\n",
        "plt.xscale('log')\n",
        "plt.yscale('log')"
      ],
      "metadata": {
        "colab": {
          "base_uri": "https://localhost:8080/",
          "height": 299
        },
        "id": "Seum1xnSmV5E",
        "outputId": "55422181-cd66-4401-f5f6-34642be74de2"
      },
      "execution_count": 24,
      "outputs": [
        {
          "output_type": "display_data",
          "data": {
            "text/plain": [
              "<Figure size 432x288 with 1 Axes>"
            ],
            "image/png": "[encoded data removed]"
          },
          "metadata": {
            "needs_background": "light"
          }
        }
      ]
    }
  ]
}