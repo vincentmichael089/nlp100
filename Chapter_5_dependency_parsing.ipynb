{
  "nbformat": 4,
  "nbformat_minor": 0,
  "metadata": {
    "colab": {
      "name": "Chapter 5: Dependency parsing.ipynb",
      "provenance": [],
      "collapsed_sections": []
    },
    "kernelspec": {
      "name": "python3",
      "display_name": "Python 3"
    },
    "language_info": {
      "name": "python"
    }
  },
  "cells": [
    {
      "cell_type": "markdown",
      "source": [
        "# Chapter 5: Dependency parsing\n",
        "https://nlp100.github.io/en/ch05.html The zip archive ai.en.zip contains the text of the Wikipedia article, “Artificial Intelligence”. Apply a dependency parser to the text, and store the result in a file. Implement programs that read the dependency trees and perform the jobs.\n",
        "\n",
        "For your convenience, the zip archive also includes ai.en.txt.json, the text with dependency trees predicted by Stanford CoreNLP and stored in JSON format."
      ],
      "metadata": {
        "id": "HFuM1VYhYX1x"
      }
    },
    {
      "cell_type": "markdown",
      "source": [
        "<hr>\n",
        "\n",
        "## 40. Read the parse result (words)\n",
        "\n",
        "Design a class Word that represents a word. This class has three member variables, text (word surface), lemma (lemma), and pos (part-of-speech). Represent a sentence as an array of instances of Word class. Implement a program to load the parse result, and store the text as an array of sentences. Show the object of the first sentence of the body of the article."
      ],
      "metadata": {
        "id": "1Sb1gRoCYeiZ"
      }
    },
    {
      "cell_type": "code",
      "execution_count": 4,
      "metadata": {
        "colab": {
          "base_uri": "https://localhost:8080/"
        },
        "id": "P55J1SkzXo_1",
        "outputId": "0a196d27-2832-47d1-a0e8-3169210af4b9"
      },
      "outputs": [
        {
          "output_type": "stream",
          "name": "stdout",
          "text": [
            "Mounted at /content/drive\n"
          ]
        }
      ],
      "source": [
        "import re\n",
        "import pandas as pd\n",
        "import json\n",
        "\n",
        "from google.colab import drive\n",
        "drive.mount('/content/drive', force_remount=True)\n",
        "\n",
        "basePath = \"/content/drive/MyDrive/nlp100/Dataset/alice/\"\n",
        "rawtext = \"alice.txt\"\n",
        "conll = \"alice.txt.conll\"\n",
        "jsn = 'alice.txt.json'\n",
        "\n",
        "f = open(basePath + rawtext, 'r', encoding = \"ISO-8859-1\")\n",
        "aliceRaw = f.read()\n",
        "aliceRaw = re.sub(r\"\\n\", r\" \", aliceRaw)\n",
        "aliceRaw = aliceRaw.strip()\n",
        "aliceRawPerSentence = aliceRaw.split(\".\")\n",
        "\n",
        "f = open(basePath + jsn, 'r')\n",
        "aliceJson = json.load(f)"
      ]
    },
    {
      "cell_type": "code",
      "source": [
        "aliceRaw[:500]"
      ],
      "metadata": {
        "colab": {
          "base_uri": "https://localhost:8080/",
          "height": 53
        },
        "id": "Yk_dm5iPZUNe",
        "outputId": "fc6e31e6-8699-4b5b-8728-2d9c386a19b2"
      },
      "execution_count": 5,
      "outputs": [
        {
          "output_type": "execute_result",
          "data": {
            "text/plain": [
              "\"ALICE'S ADVENTURES IN WONDERLAND  Lewis Carroll  THE MILLENNIUM FULCRUM EDITION 3.0     CHAPTER I. Down the Rabbit-Hole  Alice was beginning to get very tired of sitting by her sister on the bank, and of having nothing to do: once or twice she had peeped into the book her sister was reading, but it had no pictures or conversations in it, 'and what is the use of a book,' thought Alice 'without pictures or conversations?'  So she was considering in her own mind (as well as she could, for the hot d\""
            ],
            "application/vnd.google.colaboratory.intrinsic+json": {
              "type": "string"
            }
          },
          "metadata": {},
          "execution_count": 5
        }
      ]
    },
    {
      "cell_type": "code",
      "source": [
        "class Alice:\n",
        "  def __init__(self, pathJsn):\n",
        "    self._sentences = []\n",
        "    self._aliceJson = []\n",
        "\n",
        "    f = open(basePath + jsn, 'r')\n",
        "    self._aliceJson = json.load(f)\n",
        "\n",
        "    currentSentence = []\n",
        "\n",
        "    for i, sentence in enumerate(self._aliceJson['sentences']):\n",
        "      for j, word in enumerate(sentence['tokens']):\n",
        "        a = self.Word(\n",
        "            text = word['word'],\n",
        "            lemma = word['lemma'],\n",
        "            pos = word['pos'],\n",
        "        )\n",
        "        \n",
        "        currentSentence.append(a)\n",
        "\n",
        "      self._sentences.append(currentSentence)\n",
        "      currentSentence = []\n",
        "\n",
        "  class Word:\n",
        "    def __init__(self, text, lemma, pos):\n",
        "      self._text = text\n",
        "      self._lemma = lemma\n",
        "      self._pos = pos"
      ],
      "metadata": {
        "id": "gp0kzBAgZpTo"
      },
      "execution_count": 6,
      "outputs": []
    },
    {
      "cell_type": "code",
      "source": [
        "alice = Alice(basePath + jsn)\n",
        "\n",
        "for index, word in enumerate(alice._sentences[0]):\n",
        "  print(\"==== index\",index,\"====\")\n",
        "  print(\"text\\t:\", word._text)\n",
        "  print(\"lemma\\t:\",word._lemma)\n",
        "  print(\"pos\\t:\", word._pos)"
      ],
      "metadata": {
        "colab": {
          "base_uri": "https://localhost:8080/"
        },
        "id": "pk6JxvuLlkMm",
        "outputId": "6a9ce805-4527-45b0-a60c-7ada1dad383d"
      },
      "execution_count": 75,
      "outputs": [
        {
          "output_type": "stream",
          "name": "stdout",
          "text": [
            "==== index 0 ====\n",
            "text\t: ALICE\n",
            "lemma\t: ALICE\n",
            "pos\t: NNP\n",
            "==== index 1 ====\n",
            "text\t: 'S\n",
            "lemma\t: 's\n",
            "pos\t: POS\n",
            "==== index 2 ====\n",
            "text\t: ADVENTURES\n",
            "lemma\t: ADVENTURES\n",
            "pos\t: NNP\n",
            "==== index 3 ====\n",
            "text\t: IN\n",
            "lemma\t: in\n",
            "pos\t: IN\n",
            "==== index 4 ====\n",
            "text\t: WONDERLAND\n",
            "lemma\t: WONDERLAND\n",
            "pos\t: NNP\n"
          ]
        }
      ]
    },
    {
      "cell_type": "markdown",
      "source": [
        "<hr>\n",
        "\n",
        "## 41. Read the parse result (dependency)\n",
        "\n",
        "In addition to problem 40, add three member variables head (a reference to the object of its syntactic governor), dep (dependency type to its governor), and children (a list of references to the syntactic dependents in the parse tree) to the class Word. Show the pairs of governors (parents) and their dependents (children) of the first sentence of the body of the article. Use the class Word in the rest of the problems in this chapter."
      ],
      "metadata": {
        "id": "1Av20h77IJ5v"
      }
    },
    {
      "cell_type": "code",
      "source": [
        "class Alice:\n",
        "  def __init__(self, pathJsn):\n",
        "    self._sentences = []\n",
        "    self._aliceJson = []\n",
        "\n",
        "    f = open(basePath + jsn, 'r')\n",
        "    self._aliceJson = json.load(f)\n",
        "\n",
        "    currentSentence = []\n",
        "\n",
        "    for i, sentence in enumerate(self._aliceJson['sentences']):\n",
        "      for j, word in enumerate(sentence['tokens']):\n",
        "        a = self.Word(\n",
        "            text = word['word'],\n",
        "            lemma = word['lemma'],\n",
        "            pos = word['pos'],\n",
        "            head = sentence['enhancedDependencies'][j]['governorGloss'],\n",
        "            dep = sentence['enhancedDependencies'][j]['dep'],\n",
        "            children = sentence['enhancedDependencies'][j]['dependentGloss']\n",
        "        )\n",
        "        \n",
        "        currentSentence.append(a)\n",
        "\n",
        "      self._sentences.append(currentSentence)\n",
        "      currentSentence = []\n",
        "\n",
        "  class Word:\n",
        "    def __init__(self, text, lemma, pos, head, dep, children):\n",
        "      self._text = text\n",
        "      self._lemma = lemma\n",
        "      self._pos = pos\n",
        "\n",
        "      self._head = head\n",
        "      self._dep = dep\n",
        "      self._children = children"
      ],
      "metadata": {
        "id": "mfPHLOPgWhyv"
      },
      "execution_count": 8,
      "outputs": []
    },
    {
      "cell_type": "code",
      "source": [
        "alice = Alice(basePath + jsn)\n",
        "\n",
        "for index, word in enumerate(alice._sentences[0]):\n",
        "  print(\"==== index\",index,\"====\")\n",
        "  print(\"text\\t:\", word._text)\n",
        "  print(\"lemma\\t:\",word._lemma)\n",
        "  print(\"pos\\t:\", word._pos)\n",
        "  print(\"head\\t:\", word._head)\n",
        "  print(\"dep\\t:\", word._dep)\n",
        "  print(\"children:\", word._children)"
      ],
      "metadata": {
        "colab": {
          "base_uri": "https://localhost:8080/"
        },
        "id": "i8ozcrI6ht4N",
        "outputId": "72486aa4-b260-4017-be9c-163ea8e5f197"
      },
      "execution_count": 76,
      "outputs": [
        {
          "output_type": "stream",
          "name": "stdout",
          "text": [
            "==== index 0 ====\n",
            "text\t: ALICE\n",
            "lemma\t: ALICE\n",
            "pos\t: NNP\n",
            "head\t: ROOT\n",
            "dep\t: ROOT\n",
            "children: ADVENTURES\n",
            "==== index 1 ====\n",
            "text\t: 'S\n",
            "lemma\t: 's\n",
            "pos\t: POS\n",
            "head\t: ADVENTURES\n",
            "dep\t: nmod:poss\n",
            "children: ALICE\n",
            "==== index 2 ====\n",
            "text\t: ADVENTURES\n",
            "lemma\t: ADVENTURES\n",
            "pos\t: NNP\n",
            "head\t: ALICE\n",
            "dep\t: case\n",
            "children: 'S\n",
            "==== index 3 ====\n",
            "text\t: IN\n",
            "lemma\t: in\n",
            "pos\t: IN\n",
            "head\t: WONDERLAND\n",
            "dep\t: case\n",
            "children: IN\n",
            "==== index 4 ====\n",
            "text\t: WONDERLAND\n",
            "lemma\t: WONDERLAND\n",
            "pos\t: NNP\n",
            "head\t: ADVENTURES\n",
            "dep\t: nmod:in\n",
            "children: WONDERLAND\n"
          ]
        }
      ]
    },
    {
      "cell_type": "markdown",
      "source": [
        "<hr>\n",
        "\n",
        "## 42. Show root words\n",
        "For each sentence, extract the root word (whose head is ROOT)."
      ],
      "metadata": {
        "id": "LWiPgpl5IOIe"
      }
    },
    {
      "cell_type": "code",
      "source": [
        "for i, sentence in enumerate(alice._sentences[:4]):\n",
        "  for j, word in enumerate(sentence):\n",
        "    if word._head == 'ROOT':\n",
        "      print(word._text,\"is the root of sentence \",i)"
      ],
      "metadata": {
        "colab": {
          "base_uri": "https://localhost:8080/"
        },
        "id": "jIk-X0XPik7A",
        "outputId": "c7e77f48-336e-4ae0-fbd6-1b06027e7204"
      },
      "execution_count": 83,
      "outputs": [
        {
          "output_type": "stream",
          "name": "stdout",
          "text": [
            "ALICE is the root of sentence  0\n",
            "Lewis is the root of sentence  1\n",
            "THE is the root of sentence  2\n",
            "CHAPTER is the root of sentence  3\n"
          ]
        }
      ]
    },
    {
      "cell_type": "markdown",
      "source": [
        "<hr>\n",
        "\n",
        "## 43. Show verb governors and noun dependents\n",
        "Show all pairs of verb governors (parents) and their noun dependents (children) from all sentences in the text."
      ],
      "metadata": {
        "id": "KRuhENlxIXFD"
      }
    },
    {
      "cell_type": "code",
      "source": [
        "for i, sentence in enumerate(alice._sentences[:4]):\n",
        "  print(\"======= sentence\",i,\"=======\")\n",
        "  for j, word in enumerate(sentence):\n",
        "    print(\"parent\\t: \",word._head,\" \\t\\tchild\\t: \",word._children)"
      ],
      "metadata": {
        "colab": {
          "base_uri": "https://localhost:8080/"
        },
        "id": "3Hue5s-ckdiq",
        "outputId": "b5546e57-28bb-4475-a694-27e3995a9a9a"
      },
      "execution_count": 60,
      "outputs": [
        {
          "output_type": "stream",
          "name": "stdout",
          "text": [
            "======= sentence 0 =======\n",
            "parent\t:  ROOT  \t\tchild\t:  ADVENTURES\n",
            "parent\t:  ADVENTURES  \t\tchild\t:  ALICE\n",
            "parent\t:  ALICE  \t\tchild\t:  'S\n",
            "parent\t:  WONDERLAND  \t\tchild\t:  IN\n",
            "parent\t:  ADVENTURES  \t\tchild\t:  WONDERLAND\n",
            "======= sentence 1 =======\n",
            "parent\t:  ROOT  \t\tchild\t:  Carroll\n",
            "parent\t:  Carroll  \t\tchild\t:  Lewis\n",
            "======= sentence 2 =======\n",
            "parent\t:  ROOT  \t\tchild\t:  EDITION\n",
            "parent\t:  EDITION  \t\tchild\t:  THE\n",
            "parent\t:  EDITION  \t\tchild\t:  MILLENNIUM\n",
            "parent\t:  EDITION  \t\tchild\t:  FULCRUM\n",
            "parent\t:  EDITION  \t\tchild\t:  3.0\n",
            "======= sentence 3 =======\n",
            "parent\t:  ROOT  \t\tchild\t:  I.\n",
            "parent\t:  I.  \t\tchild\t:  CHAPTER\n",
            "parent\t:  Rabbit-Hole  \t\tchild\t:  Down\n",
            "parent\t:  Rabbit-Hole  \t\tchild\t:  the\n",
            "parent\t:  I.  \t\tchild\t:  Rabbit-Hole\n"
          ]
        }
      ]
    },
    {
      "cell_type": "markdown",
      "source": [
        "<hr>\n",
        "\n",
        "## 44. Visualize dependency trees\n",
        "Visualize a dependency tree of a sentence as a directed graph. Consider converting a dependency tree into DOT language and use Graphviz for drawing a directed graph. In addition, you can use pydot for drawing a dependency tree."
      ],
      "metadata": {
        "id": "L9vpUEsAIcu-"
      }
    },
    {
      "cell_type": "code",
      "source": [
        "from treelib import Node, Tree"
      ],
      "metadata": {
        "id": "zD3RLt1rl25r"
      },
      "execution_count": 40,
      "outputs": []
    },
    {
      "cell_type": "code",
      "source": [
        "for i, sentence in enumerate(alice._sentences[:4]):\n",
        "  print(\"======= sentence\",i,\"=======\")\n",
        "\n",
        "  orderList = ['ROOT']\n",
        "  mapping = [''] # string '' will be removed later. Only for indexing\n",
        "  sentenceCopy = sentence.copy()\n",
        "  while len(orderList) != len(sentence) + 1: # DFS-ordering as treelib needs the data to be ordered.\n",
        "    for j, word in enumerate(sentenceCopy):\n",
        "      if word._head in orderList and word._children not in orderList:\n",
        "        indexInsert = orderList.index(word._head) + 1\n",
        "        orderList.insert(indexInsert, word._children)\n",
        "        mapping.insert(indexInsert, {'parent': word._head, 'child': word._children})\n",
        "        sentenceCopy.pop(j)\n",
        "\n",
        "  tree = Tree()\n",
        "  mapping.pop(0)\n",
        "\n",
        "  for i, v in enumerate(mapping):\n",
        "    if i == 0:\n",
        "      tree.create_node(v['child'], v['child'])\n",
        "    else:\n",
        "      tree.create_node(v['child'], v['child'], v['parent'])\n",
        "\n",
        "  tree.show()"
      ],
      "metadata": {
        "colab": {
          "base_uri": "https://localhost:8080/"
        },
        "id": "HtxqDqxq2B_1",
        "outputId": "ee43423b-5743-4e17-8131-4b660be0eb1d"
      },
      "execution_count": 59,
      "outputs": [
        {
          "output_type": "stream",
          "name": "stdout",
          "text": [
            "======= sentence 0 =======\n",
            "ADVENTURES\n",
            "├── ALICE\n",
            "│   └── 'S\n",
            "└── WONDERLAND\n",
            "    └── IN\n",
            "\n",
            "======= sentence 1 =======\n",
            "Carroll\n",
            "└── Lewis\n",
            "\n",
            "======= sentence 2 =======\n",
            "EDITION\n",
            "├── 3.0\n",
            "├── FULCRUM\n",
            "├── MILLENNIUM\n",
            "└── THE\n",
            "\n",
            "======= sentence 3 =======\n",
            "I.\n",
            "├── CHAPTER\n",
            "└── Rabbit-Hole\n",
            "    ├── Down\n",
            "    └── the\n",
            "\n"
          ]
        }
      ]
    },
    {
      "cell_type": "markdown",
      "source": [
        "<hr>\n",
        "\n",
        "## 45. Triple with subject, verb, and direct object\n",
        "We are interested in extracting facts from the text. In this chapter, we represent a fact as a tuple of (subject, predicate, object). Extract tuples from dependency trees where:\n",
        "*   subject is a nominal subject of a verb in the past tense\n",
        "*   predicate is the verb in the past tense\n",
        "*   object is a direct object of the verb\n",
        "\n",
        "Consider an example sentence, “Frank Rosenblatt invented the perceptron”. We want to extract a tuple, (Rosenblatt, invented, perceptron), from the sentence. In this problem, we only consider a subject and object as a single word.\n",
        "\n",
        "This graph shows a dependency tree for the sentence (this may vary depending on the parser).\n",
        "\n",
        "<i> check the site for the image </i>\n",
        "\n",
        "In order to extract a tuple from a dependency tree, it may be a good idea to design an extraction rule on the dependency tree, for example,\n",
        "\n",
        "<i> check the site for the image </i>"
      ],
      "metadata": {
        "id": "eaCK-NVzIkTs"
      }
    },
    {
      "cell_type": "markdown",
      "source": [
        "### Rule: no restriction\n",
        "\n"
      ],
      "metadata": {
        "id": "kH-UkvP2D1oA"
      }
    },
    {
      "cell_type": "code",
      "source": [
        "for i, sentence in enumerate(alice._sentences):\n",
        "  vbds = []\n",
        "  for j, word in enumerate(sentence):\n",
        "    if word._pos == \"VBD\": vbds.append(word._text)\n",
        "\n",
        "  for vbd in vbds:\n",
        "    subj = []\n",
        "    obj = []\n",
        "    \n",
        "    for j, word in enumerate(sentence):\n",
        "      if word._head == vbd and word._text != word._head:\n",
        "        if word._dep == \"nsubj\": subj.append(word._text)\n",
        "        if word._dep == \"dobj\": obj.append(word._text)\n",
        "\n",
        "    if subj and obj:\n",
        "      print(subj, \"----\", vbd, \"----\", obj)\n"
      ],
      "metadata": {
        "colab": {
          "base_uri": "https://localhost:8080/"
        },
        "id": "0-bZEHXbDanl",
        "outputId": "a58c6766-e6a0-43a1-b1fe-f5cca0a06359"
      },
      "execution_count": 95,
      "outputs": [
        {
          "output_type": "stream",
          "name": "stdout",
          "text": [
            "['conversations'] ---- had ---- ['`', 'what']\n",
            "['conversations'] ---- had ---- ['`', 'what']\n",
            "['actually'] ---- TOOK ---- ['OF']\n",
            "['she'] ---- had ---- ['plenty']\n",
            "['I'] ---- fell ---- ['top']\n",
            "['she'] ---- put ---- ['way', 'it']\n",
            "['she'] ---- turned ---- ['corner']\n",
            "['she'] ---- tried ---- ['key']\n",
            "['nice', ','] ---- had ---- ['mixed']\n",
            "['generally'] ---- gave ---- ['advice']\n",
            "['she'] ---- followed ---- ['it']\n",
            "['she'] ---- scolded ---- ['herself']\n",
            "['same'] ---- remained ---- ['be']\n",
            "['she'] ---- took ---- ['hurried']\n",
            "['she'] ---- dried ---- ['eyes']\n",
            "[','] ---- dropped ---- [',']\n",
            "['hands'] ---- crossed ---- ['lap']\n",
            "['just'] ---- dropped ---- ['to']\n",
            "['That'] ---- WAS ---- ['escape']\n",
            "['I'] ---- cried ---- ['much']\n",
            "['always'] ---- HATED ---- ['cats']\n",
            "['they'] ---- had ---- ['consultation']\n",
            "['they'] ---- had ---- ['consultation']\n",
            "['she'] ---- wanted ---- ['much']\n",
            "['hand'] ---- put ---- [',']\n",
            "['no'] ---- pulled ---- ['-LRB-']\n",
            "['idea'] ---- handed ---- ['.']\n",
            "['Dodo'] ---- presented ---- ['thimble']\n",
            "['simply'] ---- took ---- ['looking']\n",
            "['over'] ---- begged ---- ['to']\n",
            "[','] ---- Said ---- ['Fury']\n",
            "['only'] ---- shook ---- ['impatiently']\n",
            "['Crab'] ---- took ---- ['opportunity']\n",
            "['again'] ---- heard ---- ['pattering']\n",
            "['she'] ---- looked ---- ['that']\n",
            "['very'] ---- began ---- ['about']\n",
            "['she'] ---- went ---- ['about']\n",
            "['up'] ---- took ---- ['of', ',']\n",
            "['she'] ---- uncorked ---- ['put']\n",
            "['she', 'found'] ---- had ---- ['bottle']\n",
            "['she', 'found'] ---- had ---- ['bottle']\n",
            "['she', 'found'] ---- had ---- ['bottle']\n",
            "['hastily'] ---- put ---- ['bottle']\n",
            "['effect'] ---- tried ---- ['with']\n",
            "['that'] ---- fancied ---- ['of']\n",
            "[','] ---- heard ---- ['to']\n",
            "['she'] ---- shook ---- ['house']\n",
            "['was'] ---- had ---- ['be']\n",
            "['she'] ---- heard ---- ['Rabbit']\n",
            "['she'] ---- spread ---- [',']\n",
            "['she'] ---- heard ---- ['shriek', 'fall']\n",
            "['ever'] ---- saw ---- ['size']\n",
            "['out'] ---- made ---- ['in']\n",
            "['Bill'] ---- got ---- ['other']\n",
            "['who'] ---- did ---- ['that']\n",
            "[','] ---- gave ---- ['see']\n",
            "['of'] ---- hit ---- ['the']\n",
            "['of'] ---- found ---- ['little']\n",
            "['all'] ---- made ---- ['rush']\n",
            "['her'] ---- made ---- ['great']\n",
            "['up'] ---- held ---- ['the']\n",
            "['little', 'stick'] ---- made ---- ['head']\n",
            "['little', 'stick'] ---- made ---- ['head']\n",
            "[','] ---- tumbled ---- ['hold']\n",
            "['side', 'game'] ---- ran ---- ['charges']\n",
            "['running'] ---- began ---- ['way']\n",
            "['leant'] ---- fanned ---- ['one']\n",
            "['immediately'] ---- met ---- ['of']\n",
            "['I'] ---- WAS ---- ['who']\n",
            "['she'] ---- drew ---- ['up']\n",
            "['she'] ---- had ---- ['nothing']\n",
            "['it'] ---- unfolded ---- ['took']\n",
            "['unfolded'] ---- took ---- ['its']\n",
            "[','] ---- said ---- ['Caterpillar']\n",
            "['a'] ---- turned ---- ['the']\n",
            "['he'] ---- shook ---- ['locks']\n",
            "['to'] ---- gave ---- [',']\n",
            "['you'] ---- balanced ---- ['eel']\n",
            "['it'] ---- put ---- ['into']\n",
            "['put'] ---- began ---- ['.']\n",
            "['stretched'] ---- broke ---- ['the']\n",
            "['to'] ---- nibbled ---- ['of']\n",
            "['she'] ---- did ---- ['last']\n",
            "['be'] ---- found ---- ['which']\n",
            "['in'] ---- made ---- [':']\n",
            "[\"'ve\", \"'ve\"] ---- tried ---- ['of', 'and', 'the']\n",
            "['have'] ---- had ---- ['wink']\n",
            "['she'] ---- remembered ---- ['number']\n",
            "['you'] ---- tasted ---- ['egg']\n",
            "['two'] ---- gave ---- ['adding']\n",
            "['she'] ---- considered ---- ['him']\n",
            "['footmen'] ---- had ---- ['hair']\n",
            "['very'] ---- crept ---- ['out']\n",
            "['we'] ---- had ---- ['door']\n",
            "['it'] ---- grazed ---- [',']\n",
            "['quite'] ---- jumped ---- ['with']\n",
            "[','] ---- took ---- ['went']\n",
            "['they'] ---- hit ---- ['her']\n",
            "['flew'] ---- carried ---- ['.']\n",
            "['everybody'] ---- minded ---- ['business']\n",
            "['I'] ---- beat ---- ['him']\n",
            "['it'] ---- missed ---- ['her']\n",
            "['the'] ---- held ---- ['in', 'directions']\n",
            "['it', 'into'] ---- carried ---- ['open']\n",
            "['it'] ---- had ---- ['nose']\n",
            "['she'] ---- knew ---- ['change']\n",
            "['she'] ---- knew ---- ['change']\n",
            "['it'] ---- saw ---- ['Alice']\n",
            "['it'] ---- had ---- ['claws', 'teeth']\n",
            "['she'] ---- tried ---- ['question']\n",
            "['that'] ---- proved ---- ['it']\n",
            "['pig'] ---- replied ---- ['Alice']\n",
            "['some'] ---- raised ---- ['feet']\n",
            "['I'] ---- told ---- ['you']\n",
            "['he'] ---- poured ---- ['tea']\n",
            "['for'] ---- said ---- ['Hatter']\n",
            "['itself'] ---- began ---- ['its']\n",
            "[','] ---- said ---- ['Hatter']\n",
            "['slowly'] ---- opened ---- ['eyes']\n",
            "[','] ---- took ---- ['in']\n",
            "[\"'ve\"] ---- had ---- ['yet']\n",
            "['she'] ---- helped ---- ['some']\n",
            "['again'] ---- took ---- ['or', 'to']\n",
            "['Hatter'] ---- went ---- ['!']\n",
            "[','] ---- said ---- ['Dormouse']\n",
            "['Dormouse'] ---- followed ---- ['him']\n",
            "['Alice'] ---- took ---- ['of']\n",
            "['who', 'off'] ---- got ---- ['from']\n",
            "['all'] ---- drew ---- ['--']\n",
            "['the'] ---- took ---- ['going']\n",
            "['they'] ---- saw ---- ['trying']\n",
            "['she'] ---- picked ---- ['way']\n",
            "['one'] ---- had ---- ['door']\n",
            "['Five', 'Seven'] ---- jogged ---- ['elbow']\n",
            "['himself'] ---- checked ---- ['the']\n",
            "['and', 'nothing'] ---- said ---- [',', 'at']\n",
            "['instantly'] ---- threw ---- ['themselves']\n",
            "['dears'] ---- came ---- ['children']\n",
            "['dears'] ---- came ---- ['children']\n",
            "['all'] ---- had ---- ['lie']\n",
            "['she'] ---- put ---- ['into']\n",
            "['Alice'] ---- joined ---- ['procession']\n",
            "['anxiously'] ---- raised ---- [',']\n",
            "['of'] ---- had ---- ['away']\n",
            "['itself'] ---- WOULD ---- ['look']\n",
            "['of'] ---- had ---- ['away']\n",
            "['of'] ---- had ---- ['away']\n",
            "['it'] ---- made ---- ['be']\n",
            "['Alice'] ---- put ---- [',']\n",
            "['put'] ---- began ---- ['the']\n",
            "['someone'] ---- had ---- ['listen']\n",
            "[','] ---- seemed ---- ['for']\n",
            "['caught'] ---- brought ---- ['the']\n",
            "['their'] ---- repeated ---- [',']\n",
            "['anything'] ---- had ---- ['could']\n",
            "['she'] ---- tucked ---- ['arm']\n",
            "['people'] ---- knew ---- ['that']\n",
            "['Duchess', ';'] ---- said ---- ['Alice']\n",
            "['Duchess', ';'] ---- said ---- ['Alice']\n",
            "['up'] ---- stood ---- ['in']\n",
            "['too'] ---- followed ---- ['croquet-ground']\n",
            "['never'] ---- saw ---- ['or']\n",
            "['up'] ---- rubbed ---- [':']\n",
            "['they'] ---- saw ---- ['in']\n",
            "['he'] ---- got ---- ['sorrow']\n",
            "['could'] ---- wanted ---- ['much']\n",
            "['I'] ---- took ---- ['course']\n",
            "['else'] ---- had ---- ['to']\n",
            "[','] ---- taught ---- ['and']\n",
            "['THAT'] ---- was ---- ['What']\n",
            "['never'] ---- learnt ---- ['it']\n",
            "['creatures'] ---- hid ---- ['in']\n",
            "['she'] ---- thought ---- ['it']\n",
            "['she'] ---- made ---- ['remark']\n",
            "['deeply'] ---- drew ---- ['of']\n",
            "['not'] ---- checked ---- ['and']\n",
            "[','] ---- sang ---- ['slowly']\n",
            "['he'] ---- thanked ---- ['whiting']\n",
            "['she'] ---- checked ---- ['herself']\n",
            "['never'] ---- knew ---- ['much']\n",
            "['adventures'] ---- said ---- ['Alice', 'use']\n",
            "['she'] ---- saw ---- ['Rabbit']\n",
            "['got'] ---- opened ---- ['mouths', 'VERY']\n",
            "['as'] ---- gained ---- ['went']\n",
            "[',', 'different', 'breath'] ---- drew ---- ['said']\n",
            "['it'] ---- had ---- ['kind']\n",
            "['to'] ---- used ---- ['I']\n",
            "['never'] ---- heard ---- ['before']\n",
            "['Panther'] ---- took ---- ['pie-crust']\n",
            "['Owl'] ---- had ---- ['dish']\n",
            "['Turtle'] ---- interrupted ---- ['What']\n",
            "['Gryphon'] ---- said ---- ['that']\n",
            "['he'] ---- wore ---- ['crown']\n",
            "['her'] ---- knew ---- ['it']\n",
            "['of'] ---- had ---- ['pencil']\n",
            "['she'] ---- went ---- ['got']\n",
            "['round'] ---- found ---- ['away']\n",
            "['mark'] ---- left ---- ['slate']\n",
            "[','] ---- read ---- ['accusation']\n",
            "['Rabbit'] ---- blew ---- ['the']\n",
            "['blew'] ---- unrolled ---- ['read']\n",
            "['he'] ---- stole ---- ['tarts']\n",
            "['Rabbit'] ---- blew ---- ['on']\n",
            "['I'] ---- finished ---- ['tea']\n",
            "[','] ---- said ---- ['Hare']\n",
            "[','] ---- added ---- ['Dormouse']\n",
            "['jury'] ---- wrote ---- ['their']\n",
            "['eagerly'] ---- added ---- ['and']\n",
            "['wrote'] ---- reduced ---- ['pence']\n",
            "[','] ---- made ---- ['of']\n",
            "[','] ---- puzzled ---- ['until']\n",
            "['he'] ---- shook ---- ['shoes']\n",
            "['Dormouse'] ---- denied ---- [',']\n",
            "['I'] ---- cut ---- ['bread-and-butter']\n",
            "['that'] ---- finished ---- ['guinea-pigs']\n",
            "['King', 'hurriedly'] ---- left ---- [',']\n",
            "[\"n't\"] ---- said ---- ['cook']\n",
            "[','] ---- said ---- ['cook']\n",
            "[','] ---- said ---- ['voice']\n",
            "[','] ---- shrieked ---- ['that']\n",
            "['soon'] ---- got ---- ['out']\n",
            "['got'] ---- put ---- ['right']\n",
            "[','] ---- said ---- ['Alice']\n",
            "['of'] ---- wrote ---- ['it']\n",
            "['who'] ---- cackled ---- ['!']\n",
            "['you'] ---- invented ---- ['it']\n",
            "['pale'] ---- shut ---- ['hastily']\n",
            "['had'] ---- mentioned ---- ['him']\n",
            "['me'] ---- gave ---- ['said']\n",
            "['they', 'You'] ---- gave ---- ['one', 'two', 'three', 'more']\n",
            "['they', 'You'] ---- gave ---- ['one', 'two', 'three', 'more']\n",
            "['they', 'You'] ---- gave ---- ['one', 'two', 'three', 'more']\n",
            "['she'] ---- had ---- ['fit', 'obstacle']\n",
            "['she'] ---- had ---- ['fit', 'obstacle']\n",
            "['she'] ---- liked ---- ['them']\n",
            "['certainly'] ---- did ---- ['he']\n",
            "['I', 'THEY'] ---- GAVE ---- ['HER', 'HIM']\n",
            "['I', 'THEY'] ---- GAVE ---- ['HER', 'HIM']\n",
            "['he'] ---- did ---- ['what']\n",
            "['HIM'] ---- said ---- ['Alice']\n",
            "['never'] ---- had ---- [',']\n",
            "['it'] ---- made ---- ['mark']\n",
            "['she'] ---- gave ---- ['of']\n",
            "['I'] ---- had ---- ['dream']\n",
            "['and'] ---- kissed ---- ['`']\n",
            "['dear'] ---- WAS ---- ['but']\n",
            "['she'] ---- left ---- ['her']\n",
            "['hurried'] ---- splashed ---- ['the']\n",
            "['on'] ---- believed ---- ['in']\n"
          ]
        }
      ]
    },
    {
      "cell_type": "markdown",
      "source": [
        "### Rule: subject must be NNP or NN\n"
      ],
      "metadata": {
        "id": "coM1YKpsENv4"
      }
    },
    {
      "cell_type": "code",
      "source": [
        "for i, sentence in enumerate(alice._sentences):\n",
        "  vbds = []\n",
        "  for j, word in enumerate(sentence):\n",
        "    if word._pos == \"VBD\": vbds.append(word._text)\n",
        "\n",
        "  for vbd in vbds:\n",
        "    subj = []\n",
        "    obj = []\n",
        "    \n",
        "    for j, word in enumerate(sentence):\n",
        "      if word._head == vbd and word._text != word._head:\n",
        "        if word._dep == \"nsubj\" and word._pos in [\"NNP\",\"NN\"]: subj.append(word._text)\n",
        "        if word._dep == \"dobj\": obj.append(word._text)\n",
        "\n",
        "    if subj and obj:\n",
        "      print(subj, \"----\", vbd, \"----\", obj)\n"
      ],
      "metadata": {
        "colab": {
          "base_uri": "https://localhost:8080/"
        },
        "id": "u1_fmLVgEQxJ",
        "outputId": "c7bab52c-10f6-434a-9fcf-b4f4db362336"
      },
      "execution_count": 98,
      "outputs": [
        {
          "output_type": "stream",
          "name": "stdout",
          "text": [
            "['hand'] ---- put ---- [',']\n",
            "['idea'] ---- handed ---- ['.']\n",
            "['Dodo'] ---- presented ---- ['thimble']\n",
            "['Crab'] ---- took ---- ['opportunity']\n",
            "['effect'] ---- tried ---- ['with']\n",
            "['Bill'] ---- got ---- ['other']\n",
            "['stick'] ---- made ---- ['head']\n",
            "['stick'] ---- made ---- ['head']\n",
            "['side', 'game'] ---- ran ---- ['charges']\n",
            "['everybody'] ---- minded ---- ['business']\n",
            "['pig'] ---- replied ---- ['Alice']\n",
            "['Hatter'] ---- went ---- ['!']\n",
            "['Dormouse'] ---- followed ---- ['him']\n",
            "['Alice'] ---- took ---- ['of']\n",
            "['nothing'] ---- said ---- [',', 'at']\n",
            "['Alice'] ---- joined ---- ['procession']\n",
            "['Alice'] ---- put ---- [',']\n",
            "['someone'] ---- had ---- ['listen']\n",
            "['anything'] ---- had ---- ['could']\n",
            "['Duchess'] ---- said ---- ['Alice']\n",
            "['Duchess'] ---- said ---- ['Alice']\n",
            "['breath'] ---- drew ---- ['said']\n",
            "['Panther'] ---- took ---- ['pie-crust']\n",
            "['Owl'] ---- had ---- ['dish']\n",
            "['Turtle'] ---- interrupted ---- ['What']\n",
            "['Gryphon'] ---- said ---- ['that']\n",
            "['mark'] ---- left ---- ['slate']\n",
            "['Rabbit'] ---- blew ---- ['the']\n",
            "['Rabbit'] ---- blew ---- ['on']\n",
            "['jury'] ---- wrote ---- ['their']\n",
            "['Dormouse'] ---- denied ---- [',']\n",
            "['King'] ---- left ---- [',']\n",
            "['THEY'] ---- GAVE ---- ['HER', 'HIM']\n",
            "['THEY'] ---- GAVE ---- ['HER', 'HIM']\n",
            "['HIM'] ---- said ---- ['Alice']\n"
          ]
        }
      ]
    },
    {
      "cell_type": "markdown",
      "source": [
        "### Rule: subject must be NNP\n",
        "\n"
      ],
      "metadata": {
        "id": "1-K_sMEoD8yo"
      }
    },
    {
      "cell_type": "code",
      "source": [
        "for i, sentence in enumerate(alice._sentences):\n",
        "  vbds = []\n",
        "  for j, word in enumerate(sentence):\n",
        "    if word._pos == \"VBD\": vbds.append(word._text)\n",
        "\n",
        "  for vbd in vbds:\n",
        "    subj = []\n",
        "    obj = []\n",
        "    \n",
        "    for j, word in enumerate(sentence):\n",
        "      if word._head == vbd and word._text != word._head:\n",
        "        if word._dep == \"nsubj\" and word._pos == \"NNP\": subj.append(word._text)\n",
        "        if word._dep == \"dobj\": obj.append(word._text)\n",
        "\n",
        "    if subj and obj:\n",
        "      print(subj, \"----\", vbd, \"----\", obj)\n"
      ],
      "metadata": {
        "colab": {
          "base_uri": "https://localhost:8080/"
        },
        "id": "GyMwSyZt_L3O",
        "outputId": "4ce1a0ee-ef61-4b12-852a-8e72093de9af"
      },
      "execution_count": 97,
      "outputs": [
        {
          "output_type": "stream",
          "name": "stdout",
          "text": [
            "['Dodo'] ---- presented ---- ['thimble']\n",
            "['Crab'] ---- took ---- ['opportunity']\n",
            "['Bill'] ---- got ---- ['other']\n",
            "['Alice'] ---- took ---- ['of']\n",
            "['Alice'] ---- joined ---- ['procession']\n",
            "['Alice'] ---- put ---- [',']\n",
            "['Duchess'] ---- said ---- ['Alice']\n",
            "['Duchess'] ---- said ---- ['Alice']\n",
            "['Turtle'] ---- interrupted ---- ['What']\n",
            "['Gryphon'] ---- said ---- ['that']\n",
            "['Rabbit'] ---- blew ---- ['the']\n",
            "['Rabbit'] ---- blew ---- ['on']\n",
            "['Dormouse'] ---- denied ---- [',']\n",
            "['King'] ---- left ---- [',']\n",
            "['THEY'] ---- GAVE ---- ['HER', 'HIM']\n",
            "['THEY'] ---- GAVE ---- ['HER', 'HIM']\n",
            "['HIM'] ---- said ---- ['Alice']\n"
          ]
        }
      ]
    },
    {
      "cell_type": "markdown",
      "source": [
        "<hr>\n",
        "\n",
        "## 46. Expanding subjects and objects\n",
        "Improve the program of Problem 45 to remove the restriction that subjects and objects are single words but can also be phrases. For example, we want to extract (Frank Rosenblatt, invented, perceptron) from the sentence, “Frank Rosenblatt invented the perceptron”."
      ],
      "metadata": {
        "id": "MLNeL_a4I8Sa"
      }
    },
    {
      "cell_type": "markdown",
      "source": [
        "<hr>\n",
        "\n",
        "## 47. Triple from the passive sentence\n",
        "Extract facts from sentences in the passive voice. Consider an example sentence, “Artificial intelligence was founded as an academic discipline in 1955”. We want to extract two tuples from the sentence,\n",
        "\n",
        "* (Artificial intelligence, founded-as, academic discipline)\n",
        "* (Artificial intelligence, founded-in, 1955)"
      ],
      "metadata": {
        "id": "jWtjRYCAJC5T"
      }
    },
    {
      "cell_type": "markdown",
      "source": [
        "<hr>\n",
        "\n",
        "## 48. Extract paths from the root to nouns\n",
        "For every noun in a dependency tree, extract a path from the root to the noun. Here, each path must satisfy the following specifications.\n",
        "\n",
        "* Nodes in a path are words in surface form\n",
        "* Nodes are connected with “ -> “ from the root to the leaf node\n",
        "* We don’t have to include dependency types (e.g., nsubj, dobj) when representing a dependency path.\n",
        "\n",
        "For the example sentence, “Frank Rosenblatt invented the perceptron”, we expect an output,\n",
        "\n",
        "<i> check the site for the image </i>"
      ],
      "metadata": {
        "id": "L7XEmHNTJULh"
      }
    },
    {
      "cell_type": "markdown",
      "source": [
        "<hr>\n",
        "\n",
        "## 49. Extract the shortest path between two nouns\n",
        "Extract the shortest path for every pair of two nouns. Supposing that two nouns appear at the i-th and j-th positions (in words) in a sentence (i<j), the shortest path must satisfy the following specifications.\n",
        "\n",
        "* Nodes in a path are words in surface form\n",
        "* Nodes corresponding to the i-th and j-th words are replaced with X and Y, respectively.\n",
        "* Nodes are connected with either “ -> “ or “ <- “ from X to Y to represent a direction of a dependency.\n",
        "\n",
        "We can consider two types of dependency paths.\n",
        "\n",
        "* When the j-th word appears on the path from the i-th word to the root: the path from the i-th word to the j-th word\n",
        "* When the i-th and j-th words have the common ancestor (the k-th word) in the dependency tree: the path from the i-th word to the k-th word connected with “ <- “, followed by the path from the k-th word to the j-th word connected with “ -> “.\n",
        "\n",
        "For the example sentence, “Frank Rosenblatt invented the perceptron”, we expect an output,\n",
        "\n",
        "<i> check the site for the image </i>"
      ],
      "metadata": {
        "id": "IHREHv_mJfN9"
      }
    }
  ]
}